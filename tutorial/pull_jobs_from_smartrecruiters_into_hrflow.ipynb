{
  "nbformat": 4,
  "nbformat_minor": 0,
  "metadata": {
    "colab": {
      "name": "Build Personalized AI HR models",
      "provenance": [],
      "collapsed_sections": []
    },
    "kernelspec": {
      "name": "python3",
      "display_name": "Python 3"
    }
  },
  "cells": [
    {
      "cell_type": "markdown",
      "metadata": {
        "id": "AZdfdAQSt7hZ"
      },
      "source": [
        "##### Copyright 2020 HrFlow's AI Research Department\n",
        "\n",
        "Licensed under the Apache License, Version 2.0 (the \"License\");"
      ]
    },
    {
      "cell_type": "code",
      "metadata": {
        "id": "QNgz5iA-uD4E"
      },
      "source": [
        "# Copyright 2020 HrFlow's AI Research Department. All Rights Reserved.\n",
        "#\n",
        "# Licensed under the Apache License, Version 2.0 (the \"License\");\n",
        "# you may not use this file except in compliance with the License.\n",
        "# You may obtain a copy of the License at\n",
        "#\n",
        "#     http://www.apache.org/licenses/LICENSE-2.0\n",
        "#\n",
        "# Unless required by applicable law or agreed to in writing, software\n",
        "# distributed under the License is distributed on an \"AS IS\" BASIS,\n",
        "# WITHOUT WARRANTIES OR CONDITIONS OF ANY KIND, either express or implied.\n",
        "# See the License for the specific language governing permissions and\n",
        "# limitations under the License.\n",
        "# =============================================================================="
      ],
      "execution_count": 1,
      "outputs": []
    },
    {
      "cell_type": "markdown",
      "metadata": {
        "id": "ijYNoliXuIKP"
      },
      "source": [
        "<p>\n",
        "<table align=\"left\"><td>\n",
        "  <a target=\"_blank\"  href=\"https://colab.research.google.com/github/Riminder/hrflow-connectors/blob/master/tutorial/pull_jobs_from_smartrecruiters_into_hrflow.ipynb\">\n",
        "    <img src=\"https://www.tensorflow.org/images/colab_logo_32px.png\" />Run in Google Colab\n",
        "  </a>\n",
        "</td><td>\n",
        "  <a target=\"_blank\"  href=\"https://github.com/github/Riminder/hrflow-connectors/blob/master/tutorial/pull_jobs_from_smartrecruiters_into_hrflow.ipynb\">\n",
        "    <img width=32px src=\"https://www.tensorflow.org/images/GitHub-Mark-32px.png\" />View source on GitHub</a>\n",
        "</td><td>\n",
        "  <a target=\"_blank\"  href=\"https://www.hrflow.ai/book-us\">\n",
        "    <img width=32px src=\"https://gblobscdn.gitbook.com/spaces%2F-M1L6Hspq8r9LXd5_gIC%2Favatar-1586188377926.png?generation=1586188378327930&alt=media\" />Get an account</a>\n",
        "</td></table>\n",
        "<br>\n",
        "</p>"
      ]
    },
    {
      "cell_type": "markdown",
      "metadata": {
        "id": "GuxYCkCJuYD7"
      },
      "source": [
        "# Getting Started\n",
        "This section sets up the environment and sets up differenct connections."
      ]
    },
    {
      "cell_type": "code",
      "metadata": {
        "id": "KyHzNdpwuYnz",
        "outputId": "c49ab896-9e51-4b25-e517-fbac677e7a4c",
        "colab": {
          "base_uri": "https://localhost:8080/"
        }
      },
      "source": [
        "# Machine Learning and Classification Libs\n",
        "!pip install --quiet tensorflow\n",
        "!pip install --quiet matplotlib\n",
        "!pip install --quiet tqdm\n",
        "\n",
        "# HrFlow Dependencies\n",
        "!pip install --quiet python-magic\n",
        "!pip install --quiet hrflow"
      ],
      "execution_count": 2,
      "outputs": [
        {
          "output_type": "stream",
          "text": [
            "  Building wheel for hrflow (setup.py) ... \u001b[?25l\u001b[?25hdone\n"
          ],
          "name": "stdout"
        }
      ]
    },
    {
      "cell_type": "code",
      "metadata": {
        "id": "lZOVElmBudpi",
        "outputId": "14e3be46-100a-488c-b8d0-dc7b885aaf31",
        "colab": {
          "base_uri": "https://localhost:8080/"
        }
      },
      "source": [
        "from hrflow import Hrflow\n",
        "import requests\n",
        "from datetime import datetime\n",
        "from getpass import getpass\n",
        "\n",
        "# Credentials\n",
        "api_secret = getpass(prompt=\"Please Enter Your API Secret Key\")\n",
        "email = getpass(prompt=\"Please Enter your email\")\n",
        "\n",
        "# Hrflow Board\n",
        "board_key = getpass(prompt=\"Please Enter a board_key\")\n",
        "\n",
        "# Smartrecruiter token\n",
        "token = getpass(prompt=\"Please Enter your Smartrecruiter token\")"
      ],
      "execution_count": 8,
      "outputs": [
        {
          "output_type": "stream",
          "text": [
            "Please Enter Your API Secret Key··········\n",
            "Please Enter your email··········\n",
            "Please Enter a board_key··········\n",
            "Please Enter your Smartrecruiter token··········\n"
          ],
          "name": "stdout"
        }
      ]
    },
    {
      "cell_type": "code",
      "metadata": {
        "id": "xMrGTO1pwvGN"
      },
      "source": [
        "settings = {\n",
        "    \"API_KEY\": api_secret,\n",
        "    \"USER_EMAIL\": email,\n",
        "    \"BOARD_KEY\": board_key,\n",
        "    \"TOKEN\": token,\n",
        "    \"OFFSET_JOBS\": 0,\n",
        "    \"LIMIT\": 10,\n",
        "    \"UPDATED_AFTER\": None,\n",
        "    \"AGENT_KEY\": None\n",
        "}"
      ],
      "execution_count": 22,
      "outputs": []
    },
    {
      "cell_type": "markdown",
      "metadata": {
        "id": "pbHmEEbGukre"
      },
      "source": [
        "# Workflow"
      ]
    },
    {
      "cell_type": "markdown",
      "metadata": {
        "id": "1lE9oxNVuu6n"
      },
      "source": [
        "## Pull Public Job : from Smartrecruiters into HrFlow.ai"
      ]
    },
    {
      "cell_type": "code",
      "metadata": {
        "id": "9Fnx5BVP8rQ5"
      },
      "source": [
        "from hrflow import Hrflow\n",
        "import requests\n",
        "from datetime import datetime\n",
        "\n",
        "\n",
        "def hydrate(smart_job):\n",
        "    return {\n",
        "        \"name\": smart_job.get('title'),\n",
        "        \"agent_key\": None,\n",
        "        \"reference\": smart_job.get('refNumber'),\n",
        "        \"url\": None,\n",
        "        \"created_at\": smart_job.get('createdOn'),\n",
        "        \"updated_at\": smart_job.get('updatedOn'),\n",
        "        \"summary\": \"\",\n",
        "        \"location\": {\n",
        "            \"text\": \" \".join(smart_job.get('location')[key] for key in [\"country\", \"region\", \"city\", \"address\"]\n",
        "                             if smart_job.get('location').get(key)),\n",
        "            \"lat\": smart_job.get('location').get('latitude'),\n",
        "            \"lng\": smart_job.get('location').get('longitude')},\n",
        "        \"sections\": [{\n",
        "            \"name\": \"company_description\",\n",
        "            \"title\": \"companyDescription\",\n",
        "            \"description\": smart_job.get('jobAd').get('sections').get('companyDescription').get('text')\n",
        "        },\n",
        "            {\n",
        "                \"name\": \"job_description\",\n",
        "                \"title\": \"jobDescription\",\n",
        "                \"description\": smart_job.get('jobAd').get('sections').get('jobDescription').get('text')\n",
        "            },\n",
        "            {\n",
        "                \"name\": \"qualifications\",\n",
        "                \"title\": \"qualifications\",\n",
        "                \"description\": smart_job.get('jobAd').get('sections').get('qualifications').get('text')\n",
        "            },\n",
        "            {\n",
        "                \"name\": \"additional_information\",\n",
        "                \"title\": \"additionalInformation\",\n",
        "                \"description\": smart_job.get('jobAd').get('sections').get('additionalInformation').get('text')\n",
        "            }\n",
        "        ],\n",
        "        \"skills\": [],\n",
        "        \"languages\": [{\n",
        "            \"name\": smart_job.get('jobAd').get('language').get('label'),\n",
        "            \"value\": None\n",
        "        }],\n",
        "        \"tags\": [{\n",
        "            \"name\": \"status\",\n",
        "            \"value\": smart_job.get('status')\n",
        "        },\n",
        "            {\n",
        "                \"name\": \"posting_status\",\n",
        "                \"value\": smart_job.get('postingStatus')\n",
        "            },\n",
        "            {\n",
        "                \"name\": \"job_uuid\",\n",
        "                \"value\": smart_job.get('id')\n",
        "            },\n",
        "            {\n",
        "                \"name\": \"experience_level\",\n",
        "                \"value\": smart_job.get('experienceLevel', {}).get(\"id\")\n",
        "            },\n",
        "            {\n",
        "                \"name\": \"type_of_employment\",\n",
        "                \"value\": smart_job.get('typeOfEmployment', {}).get('id')\n",
        "            },\n",
        "            {\n",
        "                \"name\": \"industry\",\n",
        "                \"value\": smart_job.get('industry', {}).get('id')\n",
        "            },\n",
        "            {\n",
        "                \"name\": \"creator\",\n",
        "                \"value\": xstr(smart_job.get('creator').get('firstName')) + \" \" + xstr(\n",
        "                    smart_job.get('creator').get('lastName'))\n",
        "            },\n",
        "            {\n",
        "                \"name\": \"function\",\n",
        "                \"value\": smart_job.get('function', {}).get('id')},\n",
        "            {\n",
        "                \"name\": \"department\",\n",
        "                \"value\": smart_job.get('department', {}).get('id')},\n",
        "            {\n",
        "                \"name\": \"manual\",\n",
        "                \"value\": smart_job.get('location', {}).get('manual')},\n",
        "            {\n",
        "                \"name\": \"remote\",\n",
        "                \"value\": smart_job.get('location', {}).get('remote')},\n",
        "            {\n",
        "                \"name\": \"eeo_category\",\n",
        "                \"value\": smart_job.get('eeoCategory', {}).get('id')}\n",
        "        ],\n",
        "        \"ranges_date\": [{\n",
        "            \"name\": \"targetHiringDate\",\n",
        "            \"value_min\": None,\n",
        "            \"value_max\": smart_job.get('targetHiringDate')\n",
        "        }],\n",
        "        \"ranges_float\": [{\n",
        "            \"name\": \"compensation\",\n",
        "            \"value_min\": smart_job.get('compensation', {}).get('min'),\n",
        "            \"value_max\": smart_job.get('compensation', {}).get('max'),\n",
        "            \"unit\": smart_job.get('compensation', {}).get('currency')\n",
        "        }],\n",
        "        \"metadatas\": [],\n",
        "    }\n",
        "\n",
        "\n",
        "##### Useful functions\n",
        "def format_skills(job_description, ents):\n",
        "    _skills = []\n",
        "    for ent in ents:\n",
        "        if ent.get('label') == \"HardSkill\":\n",
        "            skill = {\n",
        "                \"name\": job_description[ent.get('start'):ent.get('end')],\n",
        "                \"value\": None,\n",
        "                \"type\": \"hard\"\n",
        "            }\n",
        "            _skills.append(skill)\n",
        "        if ent.get('label') == \"SoftSkill\":\n",
        "            skill = {\n",
        "                \"name\": job_description[ent.get('start'):ent.get('end')],\n",
        "                \"value\": None,\n",
        "                \"type\": \"soft\"\n",
        "            }\n",
        "            _skills.append(skill)\n",
        "    return _skills\n",
        "\n",
        "\n",
        "def deduplicate_list(list_to_process):\n",
        "    deduplicated_list = []\n",
        "    if len(list_to_process) == 0:\n",
        "        return []\n",
        "    if isinstance(list_to_process[0], dict):\n",
        "        for skill in list_to_process:\n",
        "            if skill['name'].lower() not in [s['name'] for s in deduplicated_list]:\n",
        "                deduplicated_list.append({'name': skill['name'].lower(), 'value': None, 'type': skill['type']})\n",
        "        return deduplicated_list\n",
        "    return list(set(list_to_process))\n",
        "\n",
        "\n",
        "xstr = lambda s: s or \"\"\n",
        "\n",
        "\n",
        "def workflow(settings):\n",
        "    print(\"HrFlow.ai client\")\n",
        "    api_secret = settings[\"API_KEY\"]\n",
        "    api_user = settings[\"USER_EMAIL\"]\n",
        "    hrflow_client = Hrflow(api_secret=api_secret, api_user=api_user)\n",
        "\n",
        "    agent_key = settings['AGENT_KEY']\n",
        "\n",
        "    token = settings[\"TOKEN\"]\n",
        "\n",
        "    updated_after = settings[\"UPDATED_AFTER\"]\n",
        "    offset = _offset = int(settings[\"OFFSET_JOBS\"])\n",
        "\n",
        "    headers = {\n",
        "        \"X-SmartToken\": token\n",
        "    }\n",
        "\n",
        "    params = {\n",
        "        \"postingStatus\": \"PUBLIC\",\n",
        "        \"limit\": int(settings[\"LIMIT\"]),\n",
        "        \"offset\": offset\n",
        "    }\n",
        "    if updated_after:\n",
        "        params[\"updatedAfter\"] = updated_after\n",
        "\n",
        "    resp = requests.get(url='https://api.smartrecruiters.com/jobs', \n",
        "                        params=params,\n",
        "                        headers=headers).json()\n",
        "\n",
        "    total_found = resp['totalFound']\n",
        "\n",
        "    try:\n",
        "        while _offset < total_found:\n",
        "            params.update({\"offset\": _offset})\n",
        "            resp_jobs = requests.get(url='https://api.smartrecruiters.com/jobs',\n",
        "                                     params=params,\n",
        "                                     headers=headers).json()\n",
        "            jobs = resp_jobs['content']\n",
        "\n",
        "            for job in jobs:\n",
        "                resp_job = requests.get(url='https://api.smartrecruiters.com/jobs/' + job.get('id'),\n",
        "                                        headers=headers).json()\n",
        "\n",
        "                _job = hydrate(resp_job)\n",
        "                job_hrflow = hrflow_client.job.indexing.get(board_key=settings[\"BOARD_KEY\"],\n",
        "                                                            reference=_job['reference']).get('data')\n",
        "                if job_hrflow:\n",
        "                    job_hrflow['agent_key'] = agent_key\n",
        "                    job_hrflow.update(_job)\n",
        "\n",
        "                    print(\"Index job\")\n",
        "                    resp = hrflow_client.job.indexing.edit(board_key=settings[\"BOARD_KEY\"], key=job_hrflow['key'],\n",
        "                                                           job_json=job_hrflow)\n",
        "\n",
        "                    if resp['code'] != 200:\n",
        "                        raise Exception('Job is not edited')\n",
        "                else:\n",
        "                    _job['agent_key'] = agent_key\n",
        "                    # Compute skills\n",
        "                    text = ''.join(xstr(section['description']) for section in _job.get('sections'))\n",
        "                    response = hrflow_client.document.parsing.post(text=text)\n",
        "                    _job['skills'] = deduplicate_list(format_skills(text, response.get('data').get('ents')))\n",
        "                    print(\"Post job\")\n",
        "                    post_response = hrflow_client.job.indexing.add_json(board_key=settings[\"BOARD_KEY\"], job_json=_job)\n",
        "\n",
        "                    if post_response['code'] != 201:\n",
        "                        raise Exception('Job is not created')\n",
        "\n",
        "                _offset += int(settings[\"LIMIT\"])\n",
        "                updated_after = datetime.utcnow().isoformat() + 'Z'\n",
        "\n",
        "    except Exception as e:\n",
        "        print(e)\n",
        "    settings[\"UPDATED_AFTER\"] = updated_after\n",
        "    return"
      ],
      "execution_count": 25,
      "outputs": []
    },
    {
      "cell_type": "markdown",
      "metadata": {
        "id": "k-H-DuM3GRqJ"
      },
      "source": [
        "## Run the PULL workflow"
      ]
    },
    {
      "cell_type": "code",
      "metadata": {
        "id": "YCzltHHNumh5",
        "outputId": "51453924-1769-46e6-b813-d63d5a691a9a",
        "colab": {
          "base_uri": "https://localhost:8080/"
        }
      },
      "source": [
        "workflow(settings)"
      ],
      "execution_count": 26,
      "outputs": [
        {
          "output_type": "stream",
          "text": [
            "HrFlow.ai client\n"
          ],
          "name": "stdout"
        }
      ]
    }
  ]
}