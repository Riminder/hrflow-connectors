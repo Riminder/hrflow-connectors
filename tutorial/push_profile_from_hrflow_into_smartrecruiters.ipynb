{
  "nbformat": 4,
  "nbformat_minor": 0,
  "metadata": {
    "colab": {
      "name": "Build Personalized AI HR models",
      "provenance": [],
      "collapsed_sections": []
    },
    "kernelspec": {
      "name": "python3",
      "display_name": "Python 3"
    }
  },
  "cells": [
    {
      "cell_type": "markdown",
      "metadata": {
        "id": "AZdfdAQSt7hZ"
      },
      "source": [
        "##### Copyright 2020 HrFlow's AI Research Department\n",
        "\n",
        "Licensed under the Apache License, Version 2.0 (the \"License\");"
      ]
    },
    {
      "cell_type": "code",
      "metadata": {
        "id": "QNgz5iA-uD4E"
      },
      "source": [
        "# Copyright 2020 HrFlow's AI Research Department. All Rights Reserved.\n",
        "#\n",
        "# Licensed under the Apache License, Version 2.0 (the \"License\");\n",
        "# you may not use this file except in compliance with the License.\n",
        "# You may obtain a copy of the License at\n",
        "#\n",
        "#     http://www.apache.org/licenses/LICENSE-2.0\n",
        "#\n",
        "# Unless required by applicable law or agreed to in writing, software\n",
        "# distributed under the License is distributed on an \"AS IS\" BASIS,\n",
        "# WITHOUT WARRANTIES OR CONDITIONS OF ANY KIND, either express or implied.\n",
        "# See the License for the specific language governing permissions and\n",
        "# limitations under the License.\n",
        "# =============================================================================="
      ],
      "execution_count": null,
      "outputs": []
    },
    {
      "cell_type": "markdown",
      "metadata": {
        "id": "ijYNoliXuIKP"
      },
      "source": [
        "<p>\n",
        "<table align=\"left\"><td>\n",
        "  <a target=\"_blank\"  href=\"https://colab.research.google.com/github/Riminder/hrflow-connectors/blob/master/tutorial/send_profile_from_hrflow_into_smartrecruiters.ipynb\">\n",
        "    <img src=\"https://www.tensorflow.org/images/colab_logo_32px.png\" />Run in Google Colab\n",
        "  </a>\n",
        "</td><td>\n",
        "  <a target=\"_blank\"  href=\"https://github.com/github/Riminder/hrflow-connectors/blob/master/tutorial/send_profile_from_hrflow_into_smartrecruiters.ipynb\">\n",
        "    <img width=32px src=\"https://www.tensorflow.org/images/GitHub-Mark-32px.png\" />View source on GitHub</a>\n",
        "</td><td>\n",
        "  <a target=\"_blank\"  href=\"https://www.hrflow.ai/book-us\">\n",
        "    <img width=32px src=\"https://gblobscdn.gitbook.com/spaces%2F-M1L6Hspq8r9LXd5_gIC%2Favatar-1586188377926.png?generation=1586188378327930&alt=media\" />Get an account</a>\n",
        "</td></table>\n",
        "<br>\n",
        "</p>"
      ]
    },
    {
      "cell_type": "markdown",
      "metadata": {
        "id": "GuxYCkCJuYD7"
      },
      "source": [
        "# Getting Started\n",
        "This section sets up the environment and sets up differenct connections."
      ]
    },
    {
      "cell_type": "code",
      "metadata": {
        "id": "KyHzNdpwuYnz"
      },
      "source": [
        "# Machine Learning and Classification Libs\n",
        "!pip install --quiet tensorflow\n",
        "!pip install --quiet matplotlib\n",
        "!pip install --quiet tqdm\n",
        "\n",
        "# HrFlow Dependencies\n",
        "!pip install --quiet python-magic\n",
        "!pip install --quiet hrflow"
      ],
      "execution_count": null,
      "outputs": []
    },
    {
      "cell_type": "code",
      "metadata": {
        "id": "lZOVElmBudpi"
      },
      "source": [
        "from hrflow import Hrflow\n",
        "import requests\n",
        "from datetime import datetime\n",
        "from getpass import getpass\n",
        "\n",
        "# Credentials\n",
        "api_secret = getpass(prompt=\"Please Enter Your API Secret Key\")\n",
        "email = getpass(prompt=\"Please Enter your email\")\n",
        "\n",
        "# Smartrecruiter token\n",
        "token = getpass(prompt=\"Please Enter your Smartrecruiter token\")"
      ],
      "execution_count": null,
      "outputs": []
    },
    {
      "cell_type": "code",
      "metadata": {
        "id": "xMrGTO1pwvGN"
      },
      "source": [
        "settings = {\n",
        "    \"API_KEY\": api_secret,\n",
        "    \"USER_EMAIL\": email,\n",
        "    \"TOKEN\": token\n",
        "}"
      ],
      "execution_count": null,
      "outputs": []
    },
    {
      "cell_type": "code",
      "metadata": {
        "id": "vzpPmPibIlhQ"
      },
      "source": [
        "body = {\n",
        "    \"profile_key\": profile_key,\n",
        "    \"source_key\": source_key,\n",
        "    \"job_key\": job_key,\n",
        "    \"board_key\": board_key\n",
        "}"
      ],
      "execution_count": null,
      "outputs": []
    },
    {
      "cell_type": "markdown",
      "metadata": {
        "id": "pbHmEEbGukre"
      },
      "source": [
        "# Workflow"
      ]
    },
    {
      "cell_type": "markdown",
      "metadata": {
        "id": "1lE9oxNVuu6n"
      },
      "source": [
        "## Send Profile : from HrFlow.ai into Smartrecruiters"
      ]
    },
    {
      "cell_type": "code",
      "metadata": {
        "id": "9Fnx5BVP8rQ5"
      },
      "source": [
        "from mimetypes import MimeTypes\n",
        "import base64\n",
        "from hrflow import Hrflow\n",
        "import requests\n",
        "\n",
        "def format_educations(educations):\n",
        "    _educations = []\n",
        "\n",
        "    for edu in educations:\n",
        "        _edu = format_project(edu)\n",
        "        _edu.update({\n",
        "            \"institution\": edu.get('school') if edu.get('school') else \"NaN\",\n",
        "            \"degree\": edu.get('title') if edu.get('title') else \"NaN\",\n",
        "            \"major\": \"NaN\"\n",
        "        })\n",
        "\n",
        "        _educations.append(_edu)\n",
        "\n",
        "    return _educations\n",
        "\n",
        "\n",
        "def format_experiences(experiences):\n",
        "    _experiences = []\n",
        "\n",
        "    for exp in experiences:\n",
        "        _exp = format_project(exp)\n",
        "        _exp.update({\n",
        "            \"title\": exp.get('title') if exp.get('title') else \"NaN\",\n",
        "            \"company\": exp.get('company') if exp.get('company') else \"NaN\"\n",
        "        })\n",
        "\n",
        "        _experiences.append(_exp)\n",
        "\n",
        "    return _experiences\n",
        "\n",
        "\n",
        "def format_project(project):\n",
        "    return {\n",
        "        \"current\": False,\n",
        "        \"startDate\": project.get('date_start').split('T')[0] if project.get('date_start') else \"1980-01-01\",\n",
        "        \"endDate\": project.get('date_end').split('T')[0] if project.get('date_end') else \"2100-01-01\",\n",
        "        \"location\": xstr(project.get('location').get('text')),\n",
        "        \"description\": project.get('description')\n",
        "    }\n",
        "\n",
        "\n",
        "def format_resume(profile):\n",
        "    _attachment = profile.get('attachments')\n",
        "    mime = MimeTypes()\n",
        "    for attachment in profile.get('attachments'):\n",
        "        if attachment.get('type') == 'resume':\n",
        "            content = base64.b64encode(requests.get(attachment['public_url']).content).decode('utf-8')\n",
        "            mime_type = mime.guess_type(attachment['public_url'])[0]\n",
        "            return {\n",
        "                \"fileName\": attachment.get('file_name') + attachment.get('extension'),\n",
        "                \"mimeType\": mime_type,\n",
        "                \"fileContent\": content\n",
        "            }\n",
        "\n",
        "\n",
        "def hydrate(profile):\n",
        "    info = profile.get('info')\n",
        "    return {\n",
        "        \"firstName\": info.get('first_name'),\n",
        "        \"lastName\": info.get('last_name'),\n",
        "        \"email\": info.get('email'),\n",
        "        \"phoneNumber\": info.get('phone'),\n",
        "        \"location\": {\n",
        "            \"country\": xstr(info.get('location').get('fields').get('country')),\n",
        "            \"countryCode\": \"No\",\n",
        "            \"region\": xstr(info.get('location').get('fields').get('state')),\n",
        "            \"regionCode\": \"NaN\",\n",
        "            \"city\": xstr(info.get('location').get('fields').get('city')),\n",
        "            \"lat\": info.get('location').get('lat') if info.get('location').get('lat') else 64.7805,\n",
        "            \"lng\": info.get('location').get('lng') if info.get('location').get('lng') else -147.3694\n",
        "        },\n",
        "        \"web\": {\n",
        "            \"skype\": \"\",\n",
        "            \"linkedIn\": xstr(info.get('location').get('linkedin')),\n",
        "            \"facebook\": xstr(info.get('location').get('facebook')),\n",
        "            \"twitter\": xstr(info.get('location').get('twitter')),\n",
        "            \"website\": \"\"\n",
        "        },\n",
        "        \"tags\": [],\n",
        "        \"education\": format_educations(profile.get('educations')),\n",
        "        \"experience\": format_experiences(profile.get('experiences')),\n",
        "        \"attachments\": [],\n",
        "        \"consent\": True\n",
        "    }\n",
        "\n",
        "\n",
        "def get_tag_value(tags, name):\n",
        "    for tag in tags:\n",
        "        if tag[\"name\"] == name:\n",
        "            return tag.get('value')\n",
        "    return None\n",
        "\n",
        "\n",
        "xstr = lambda s: s or \" \"\n",
        "\n",
        "\n",
        "def workflow(settings, body):\n",
        "    print(\"Welcome to catch: new application\")\n",
        "\n",
        "    profile_key = body[\"profile_key\"]\n",
        "    source_key = body[\"source_key\"]\n",
        "\n",
        "    job_key = body[\"job_key\"]\n",
        "    board_key = body[\"board_key\"]\n",
        "\n",
        "    token = settings[\"TOKEN\"]\n",
        "\n",
        "    headers = {\n",
        "        \"X-SmartToken\": token\n",
        "    }\n",
        "\n",
        "    client = Hrflow(api_secret=settings[\"API_KEY\"], api_user=settings[\"USER_EMAIL\"])\n",
        "\n",
        "    job = client.job.indexing.get(board_key=board_key, key=job_key).get('data')\n",
        "\n",
        "    job_uuid = get_tag_value(job.get('tags'), 'job_uuid')\n",
        "\n",
        "    profile = client.profile.indexing.get(source_key=source_key, key=profile_key).get('data')\n",
        "\n",
        "    smart_candidate = hydrate(profile)\n",
        "    url = 'https://api.smartrecruiters.com/jobs/' + job_uuid + '/candidates'\n",
        "    smart_response = requests.post(url=url, json=smart_candidate, headers=headers)\n",
        "\n",
        "    if not smart_response.ok:\n",
        "        raise Exception('Invalid response from smartrecruiters API')\n",
        "\n",
        "    profile_uuid = smart_response.json().get('id')\n",
        "\n",
        "    url_attachment = 'https://api.smartrecruiters.com/candidates/' + profile_uuid + '/jobs/' + job_uuid + '/attachments/'\n",
        "    add_attachment_response = requests.post(url=url_attachment,\n",
        "                                            headers=headers,\n",
        "                                            data={\n",
        "                                                \"attachmentType\": \"RESUME\"\n",
        "                                            },\n",
        "                                            files={\"file\": format_resume(profile).get('fileContent')})\n",
        "    if not add_attachment_response.ok:\n",
        "        raise Exception('Invalid response while adding Resume')"
      ],
      "execution_count": null,
      "outputs": []
    },
    {
      "cell_type": "markdown",
      "metadata": {
        "id": "k-H-DuM3GRqJ"
      },
      "source": [
        "## Run the PULL workflow"
      ]
    },
    {
      "cell_type": "code",
      "metadata": {
        "id": "YCzltHHNumh5"
      },
      "source": [
        "workflow(settings, body)"
      ],
      "execution_count": null,
      "outputs": []
    }
  ]
}